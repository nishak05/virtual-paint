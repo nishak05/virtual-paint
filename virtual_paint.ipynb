{
  "nbformat": 4,
  "nbformat_minor": 0,
  "metadata": {
    "colab": {
      "provenance": []
    },
    "kernelspec": {
      "name": "python3",
      "display_name": "Python 3"
    },
    "language_info": {
      "name": "python"
    }
  },
  "cells": [
    {
      "cell_type": "code",
      "execution_count": null,
      "metadata": {
        "id": "G3-8qHAY6fUa"
      },
      "outputs": [],
      "source": [
        "import cv2\n",
        "import numpy as np\n",
        "import time\n",
        "import os\n",
        "import handdetectionmodule as hdm"
      ]
    },
    {
      "cell_type": "code",
      "source": [
        "brushThickness=15\n",
        "eraserThickness=90\n",
        "drawColor=(255,0,255)"
      ],
      "metadata": {
        "id": "_8xoJ-r46gn1"
      },
      "execution_count": null,
      "outputs": []
    },
    {
      "cell_type": "code",
      "source": [
        "folderpath=\"header\"\n",
        "myList=os.listdir(folderpath)\n",
        "print(myList)\n",
        "overlay=[]\n",
        "for impath in myList:\n",
        "    img=cv2.imread(f'{folderpath}/{impath}')\n",
        "    overlay.append(img)\n",
        "print(len(overlay))\n"
      ],
      "metadata": {
        "id": "l5dWaj1o6jpr"
      },
      "execution_count": null,
      "outputs": []
    },
    {
      "cell_type": "code",
      "source": [
        "head=overlay[0]\n",
        "cap=cv2.VideoCapture(0)\n",
        "cap.set(3,1280)\n",
        "cap.set(4,720)"
      ],
      "metadata": {
        "id": "OkRxFcix6moF"
      },
      "execution_count": null,
      "outputs": []
    },
    {
      "cell_type": "code",
      "source": [
        "imgCanvas=np.zeros((720,1280,3),np.uint8)\n",
        "detector=hdm.handDetector(detectionCon=0.85)\n",
        "xp,yp=0,0"
      ],
      "metadata": {
        "id": "GEsd7dSO6wy6"
      },
      "execution_count": null,
      "outputs": []
    },
    {
      "cell_type": "code",
      "source": [
        "while True:\n",
        "    success,frame=cap.read()\n",
        "    frame=cv2.flip(frame,1)\n",
        "\n",
        "    #find hand landmark\n",
        "    frame=detector.findHands(frame)\n",
        "    list, bbox=detector.findPosition(frame,draw=False)\n",
        "\n",
        "    if len(list)!=0:\n",
        "\n",
        "        #print(list)\n",
        "\n",
        "        #tip of index and middle finger\n",
        "        x1, y1 = list[8][1:]\n",
        "        x2, y2 = list[12][1:]\n",
        "\n",
        "        fingers = detector.fingersUp()\n",
        "\n",
        "        #If Selection Mode - Two finger are up\n",
        "        if fingers[1] and fingers[2]:\n",
        "            xp,yp=0,0\n",
        "            #print(\"Selection Mode\")\n",
        "\n",
        "            if y1 < 125:\n",
        "                if 250 < x1 < 450:        #purple brush\n",
        "                    head = overlay[0]\n",
        "                    drawColor = (255, 0, 255)\n",
        "                elif 550 < x1 < 750:      #blue brush\n",
        "                    head = overlay[1]\n",
        "                    drawColor = (255, 0, 0)\n",
        "                elif 800 < x1 < 1045:      #green brush\n",
        "                    head = overlay[2]\n",
        "                    drawColor = (0, 255, 0)\n",
        "                elif 1050 < x1 < 1200:     #eraser\n",
        "                    head = overlay[3]\n",
        "                    drawColor = (0, 0, 0)\n",
        "            cv2.rectangle(frame, (x1, y1 - 25), (x2, y2 + 25), drawColor, cv2.FILLED)     #selection mode is represented as rectangle\n",
        "            #If Drawing Mode - Index finger is up\n",
        "        if fingers[1] and fingers[2] == False:\n",
        "            cv2.circle(frame, (x1, y1), 15, drawColor, cv2.FILLED)   #drawing mode is represented as circle\n",
        "            #print(\"Drawing Mode\")\n",
        "            if xp == 0 and yp == 0:   #initially xp and yp will be at 0,0 so it will draw a line from 0,0 to whichever point our tip is at\n",
        "                xp, yp = x1, y1    # so to avoid that we set xp=x1 and yp=y1\n",
        "\n",
        "            #eraser\n",
        "            if drawColor == (0, 0, 0):\n",
        "                cv2.line(frame, (xp, yp), (x1, y1), drawColor, eraserThickness)\n",
        "                cv2.line(imgCanvas, (xp, yp), (x1, y1), drawColor, eraserThickness)\n",
        "            else:\n",
        "                cv2.line(frame, (xp, yp), (x1, y1), drawColor, brushThickness)#gonna draw lines from previous coodinates to new positions\n",
        "                cv2.line(imgCanvas, (xp, yp), (x1, y1), drawColor, brushThickness)\n",
        "\n",
        "            xp,yp=x1,y1\n",
        "    imgGray = cv2.cvtColor(imgCanvas, cv2.COLOR_BGR2GRAY)\n",
        "    _, imgInv = cv2.threshold(imgGray, 50, 255, cv2.THRESH_BINARY_INV)#on canvas all the region in which we drew is black and where it is black it is cosidered as white,it will create a mask\n",
        "    imgInv = cv2.cvtColor(imgInv,cv2.COLOR_GRAY2BGR)#converting again to gray bcoz we have to add in a RGB image i.e img\n",
        "    frame = cv2.bitwise_and(frame,imgInv)\n",
        "    frame = cv2.bitwise_or(frame,imgCanvas)\n",
        "\n",
        "    frame[0:125, 0:1280]=head\n",
        "    frame=cv2.addWeighted(frame,0.5,imgCanvas,0.5,0)\n",
        "    cv2.imshow('Image', frame)\n",
        "    #cv2.imshow('Canvas',imgCanvas)\n",
        "    if cv2.waitKey(1) & 0xFF ==ord('q'):\n",
        "        break\n",
        "\n",
        "cap.release()\n",
        "cv2.destroyAllWindows()\n"
      ],
      "metadata": {
        "id": "ZlN6lbhf6z9c"
      },
      "execution_count": null,
      "outputs": []
    },
    {
      "cell_type": "code",
      "source": [
        "cap.release()\n",
        "cv2.destroyAllWindows()"
      ],
      "metadata": {
        "id": "FfGfIqtu7GNo"
      },
      "execution_count": null,
      "outputs": []
    }
  ]
}